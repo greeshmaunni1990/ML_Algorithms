{
 "cells": [
  {
   "cell_type": "markdown",
   "metadata": {},
   "source": [
    "#### SVM is a classifier that finds optimal hyper plane that maximise the margin between two classes\n",
    "#### In 2-D it is a line and in 3-D it is a plane\n",
    "#### To separate data that cannot be seperated by line or hyperplane we can use kernel tricks\n",
    "#### Kernel trick will convert the data that is not linearly seperable in the N-dimension to a higher dimension plane where the data is seperable"
   ]
  },
  {
   "cell_type": "markdown",
   "metadata": {},
   "source": [
    "### When to use SVM\n",
    "\n",
    "* Incase of binary classification targets\n",
    "* When feature to row ratio is high(short and fat)\n",
    "* for complex relationship\n",
    "* If there is a lot of outliers because SVM only consider points close to the line. So most  of the outliers will be ignored\n",
    "\n",
    "### But don't use it \n",
    "* if your feature to row ratio is low\n",
    "* If you are looking for transparency\n",
    "* if you want a quick benchmark model as SVM takes a lot of time to train"
   ]
  },
  {
   "cell_type": "code",
   "execution_count": 1,
   "metadata": {},
   "outputs": [
    {
     "data": {
      "text/plain": [
       "SVC(C=1.0, cache_size=200, class_weight=None, coef0=0.0,\n",
       "  decision_function_shape='ovr', degree=3, gamma='auto_deprecated',\n",
       "  kernel='rbf', max_iter=-1, probability=False, random_state=None,\n",
       "  shrinking=True, tol=0.001, verbose=False)"
      ]
     },
     "execution_count": 1,
     "metadata": {},
     "output_type": "execute_result"
    }
   ],
   "source": [
    "from sklearn.svm import SVC #support vector classifier\n",
    "\n",
    "SVC() # here we are going to tune C and kernel parameters"
   ]
  },
  {
   "cell_type": "code",
   "execution_count": 2,
   "metadata": {},
   "outputs": [
    {
     "data": {
      "text/plain": [
       "['__abstractmethods__',\n",
       " '__class__',\n",
       " '__delattr__',\n",
       " '__dict__',\n",
       " '__doc__',\n",
       " '__format__',\n",
       " '__getattribute__',\n",
       " '__getstate__',\n",
       " '__hash__',\n",
       " '__init__',\n",
       " '__module__',\n",
       " '__new__',\n",
       " '__reduce__',\n",
       " '__reduce_ex__',\n",
       " '__repr__',\n",
       " '__setattr__',\n",
       " '__setstate__',\n",
       " '__sizeof__',\n",
       " '__str__',\n",
       " '__subclasshook__',\n",
       " '__weakref__',\n",
       " '_abc_cache',\n",
       " '_abc_negative_cache',\n",
       " '_abc_negative_cache_version',\n",
       " '_abc_registry',\n",
       " '_check_proba',\n",
       " '_compute_kernel',\n",
       " '_decision_function',\n",
       " '_dense_decision_function',\n",
       " '_dense_fit',\n",
       " '_dense_predict',\n",
       " '_dense_predict_proba',\n",
       " '_estimator_type',\n",
       " '_get_coef',\n",
       " '_get_param_names',\n",
       " '_impl',\n",
       " '_pairwise',\n",
       " '_predict_log_proba',\n",
       " '_predict_proba',\n",
       " '_sparse_decision_function',\n",
       " '_sparse_fit',\n",
       " '_sparse_kernels',\n",
       " '_sparse_predict',\n",
       " '_sparse_predict_proba',\n",
       " '_validate_for_predict',\n",
       " '_validate_targets',\n",
       " '_warn_from_fit_status',\n",
       " 'coef_',\n",
       " 'decision_function',\n",
       " 'fit',\n",
       " 'get_params',\n",
       " 'predict',\n",
       " 'predict_log_proba',\n",
       " 'predict_proba',\n",
       " 'score',\n",
       " 'set_params']"
      ]
     },
     "execution_count": 2,
     "metadata": {},
     "output_type": "execute_result"
    }
   ],
   "source": [
    "dir(SVC)"
   ]
  },
  {
   "cell_type": "code",
   "execution_count": 3,
   "metadata": {},
   "outputs": [],
   "source": [
    "import joblib # pickle the model and save it\n",
    "import pandas as pd\n",
    "from sklearn.svm import SVC\n",
    "from sklearn.model_selection import GridSearchCV # use for hyper parmeter tuning\n",
    "import warnings\n",
    "warnings.filterwarnings('ignore')\n",
    "warnings.simplefilter('ignore')"
   ]
  },
  {
   "cell_type": "code",
   "execution_count": 4,
   "metadata": {},
   "outputs": [],
   "source": [
    "# print the results\n",
    "def print_results(results):\n",
    "    print(\"Best params is {}\".format(results.best_params_))\n",
    "    means = results.cv_results_['mean_test_score']\n",
    "    stds = results.cv_results_['std_test_score']\n",
    "    for mean, std, params in zip(means, stds, results.cv_results_['params']):\n",
    "          print('{} (+/-){} for {}'.format(round(mean, 3), round(std *2, 3), params))"
   ]
  },
  {
   "cell_type": "code",
   "execution_count": 10,
   "metadata": {},
   "outputs": [],
   "source": [
    "svc = SVC()\n",
    "parameters = {'kernel': ['linear', 'rbf'],\n",
    "    'C': [0.001, 0.01, 0.1, 1, 10, 100, 1000]}\n",
    "\n",
    "cv = GridSearchCV(svc, parameters, cv=5)\n",
    "\n",
    "# What the above code will do is that it'll grab the first hyper parameter combination. \n",
    "# So that will be the linear kernel with C set to 0.1. \n",
    "# It'll pass those hyper parameters into SVC, and then it'll use that setting and run cross validation. \n",
    "# So because we're doing 5-fold cross-validation, it'll loop through the five subsets of data, \n",
    "# each time fitting on four and evaluating it on the fifth, and then I'll store the average test score \n",
    "# for that loop. And I'll do this for each hyper parameter combination"
   ]
  },
  {
   "cell_type": "code",
   "execution_count": 11,
   "metadata": {},
   "outputs": [],
   "source": [
    "train_features = pd.read_csv('train_features.csv')\n",
    "\n",
    "# if we dont put header = None, then automatically it will assume that the first record will be the header\n",
    "train_labels = pd.read_csv('train_labels.csv', header=None)"
   ]
  },
  {
   "cell_type": "code",
   "execution_count": 12,
   "metadata": {},
   "outputs": [
    {
     "data": {
      "text/plain": [
       "GridSearchCV(cv=5, error_score='raise-deprecating',\n",
       "       estimator=SVC(C=1.0, cache_size=200, class_weight=None, coef0=0.0,\n",
       "  decision_function_shape='ovr', degree=3, gamma='auto_deprecated',\n",
       "  kernel='rbf', max_iter=-1, probability=False, random_state=None,\n",
       "  shrinking=True, tol=0.001, verbose=False),\n",
       "       fit_params=None, iid='warn', n_jobs=None,\n",
       "       param_grid={'kernel': ['linear', 'rbf'], 'C': [0.001, 0.01, 0.1, 1, 10, 100, 1000]},\n",
       "       pre_dispatch='2*n_jobs', refit=True, return_train_score='warn',\n",
       "       scoring=None, verbose=0)"
      ]
     },
     "execution_count": 12,
     "metadata": {},
     "output_type": "execute_result"
    }
   ],
   "source": [
    "cv.fit(train_features, train_labels.values.ravel())"
   ]
  },
  {
   "cell_type": "code",
   "execution_count": 13,
   "metadata": {},
   "outputs": [
    {
     "name": "stdout",
     "output_type": "stream",
     "text": [
      "Best params is {'kernel': 'linear', 'C': 10}\n",
      "0.667 (+/-)0.065 for {'kernel': 'linear', 'C': 0.001}\n",
      "0.624 (+/-)0.005 for {'kernel': 'rbf', 'C': 0.001}\n",
      "0.713 (+/-)0.087 for {'kernel': 'linear', 'C': 0.01}\n",
      "0.624 (+/-)0.005 for {'kernel': 'rbf', 'C': 0.01}\n",
      "0.796 (+/-)0.116 for {'kernel': 'linear', 'C': 0.1}\n",
      "0.624 (+/-)0.005 for {'kernel': 'rbf', 'C': 0.1}\n",
      "0.796 (+/-)0.116 for {'kernel': 'linear', 'C': 1}\n",
      "0.62 (+/-)0.009 for {'kernel': 'rbf', 'C': 1}\n",
      "0.807 (+/-)0.123 for {'kernel': 'linear', 'C': 10}\n",
      "0.614 (+/-)0.019 for {'kernel': 'rbf', 'C': 10}\n",
      "0.8 (+/-)0.138 for {'kernel': 'linear', 'C': 100}\n",
      "0.614 (+/-)0.019 for {'kernel': 'rbf', 'C': 100}\n",
      "0.801 (+/-)0.109 for {'kernel': 'linear', 'C': 1000}\n",
      "0.614 (+/-)0.019 for {'kernel': 'rbf', 'C': 1000}\n"
     ]
    }
   ],
   "source": [
    "print_results(cv)"
   ]
  },
  {
   "cell_type": "code",
   "execution_count": 14,
   "metadata": {},
   "outputs": [
    {
     "data": {
      "text/plain": [
       "SVC(C=10, cache_size=200, class_weight=None, coef0=0.0,\n",
       "  decision_function_shape='ovr', degree=3, gamma='auto_deprecated',\n",
       "  kernel='linear', max_iter=-1, probability=False, random_state=None,\n",
       "  shrinking=True, tol=0.001, verbose=False)"
      ]
     },
     "execution_count": 14,
     "metadata": {},
     "output_type": "execute_result"
    }
   ],
   "source": [
    "cv.best_estimator_"
   ]
  },
  {
   "cell_type": "code",
   "execution_count": 16,
   "metadata": {},
   "outputs": [
    {
     "data": {
      "text/plain": [
       "['SVM_model.pkl']"
      ]
     },
     "execution_count": 16,
     "metadata": {},
     "output_type": "execute_result"
    }
   ],
   "source": [
    "### pickle the model\n",
    "joblib.dump(cv.best_estimator_, 'SVM_model.pkl')"
   ]
  }
 ],
 "metadata": {
  "kernelspec": {
   "display_name": "Python 3",
   "language": "python",
   "name": "python3"
  },
  "language_info": {
   "codemirror_mode": {
    "name": "ipython",
    "version": 2
   },
   "file_extension": ".py",
   "mimetype": "text/x-python",
   "name": "python",
   "nbconvert_exporter": "python",
   "pygments_lexer": "ipython2",
   "version": "2.7.17"
  }
 },
 "nbformat": 4,
 "nbformat_minor": 2
}
